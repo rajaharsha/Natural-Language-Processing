{
 "cells": [
  {
   "cell_type": "markdown",
   "metadata": {},
   "source": [
    "<b>Word Embedding:</b> Dense vector representation of words in low dimensional vector space. Word2Vec is most popular embedding model.\n",
    "\n",
    "<b>Distributional Hypothesis:</b> Words that appear in the same contexts share semantic meaning.\n",
    "\n",
    "<b>Vector Space Models (VSMs):</b> Represent(embed) words in continuous vector space where semantically similar words are mapped to nearby points.\n",
    "\n",
    "<b>Word2Vec:</b> An effecient predictive model for learning word embeddings from raw text. There are two ways of doing this:\n",
    "\n",
    "    1) Continous-Bag-of-Words model: Predicts the target word based on the source context words sometimes neighbours.\n",
    "    2) Skip-Gram model: Predicts the source-context words from target words."
   ]
  },
  {
   "cell_type": "markdown",
   "metadata": {},
   "source": [
    "Image(url=\"1.png\")"
   ]
  },
  {
   "cell_type": "code",
   "execution_count": null,
   "metadata": {},
   "outputs": [],
   "source": [
    "import numpy as np\n",
    "import tensorflow as tf"
   ]
  }
 ],
 "metadata": {
  "kernelspec": {
   "display_name": "Python 3",
   "language": "python",
   "name": "python3"
  },
  "language_info": {
   "codemirror_mode": {
    "name": "ipython",
    "version": 3
   },
   "file_extension": ".py",
   "mimetype": "text/x-python",
   "name": "python",
   "nbconvert_exporter": "python",
   "pygments_lexer": "ipython3",
   "version": "3.5.5"
  }
 },
 "nbformat": 4,
 "nbformat_minor": 2
}
